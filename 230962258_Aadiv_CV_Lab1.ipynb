{
 "cells": [
  {
   "cell_type": "markdown",
   "id": "9d03fa39",
   "metadata": {},
   "source": [
    "<center><H2>Lab 1\n",
    "\n",
    "<center><H1>Introduction to OpenCV using Python"
   ]
  },
  {
   "cell_type": "code",
   "execution_count": 1,
   "id": "ec871a87",
   "metadata": {},
   "outputs": [],
   "source": [
    "#pip3 list for all installations\n",
    "\n",
    "import cv2 as cv\n",
    "import pandas\n",
    "import numpy\n",
    "import sklearn"
   ]
  },
  {
   "cell_type": "markdown",
   "id": "e8d8ea59",
   "metadata": {},
   "source": [
    "<h3> Lab Exercises"
   ]
  },
  {
   "cell_type": "markdown",
   "id": "30d9c097",
   "metadata": {},
   "source": [
    "\n",
    "Q1: Write a simple program to read, display and write an image."
   ]
  },
  {
   "cell_type": "code",
   "execution_count": null,
   "id": "c97e995b",
   "metadata": {},
   "outputs": [],
   "source": [
    "test_image = cv.imread('/home/cvl-5aiml-a2/Downloads/bowzer.jpg')\n",
    "cv.imshow('bowzy copy', test_image)\n",
    "cv.waitKey(0)\n",
    "\n",
    "#When completed:\n",
    "cv.destroyAllWindows()"
   ]
  },
  {
   "cell_type": "markdown",
   "id": "bbcd3ef7",
   "metadata": {},
   "source": [
    "\n",
    "Q2: Write a simple program to read, display and write a video file.\n"
   ]
  },
  {
   "cell_type": "code",
   "execution_count": null,
   "id": "0ed250da",
   "metadata": {},
   "outputs": [
    {
     "name": "stdout",
     "output_type": "stream",
     "text": [
      "Video file opened successfully!\n"
     ]
    }
   ],
   "source": [
    "#understand this better \n",
    "cap = cv.VideoCapture(\"/home/cvl-5aiml-a2/Downloads/Example-Video.mp4\")\n",
    "if not cap.isOpened():\n",
    "    print(\"Error: Could not open video file.\")\n",
    "else:\n",
    "    print(\"Video file opened successfully!\")\n",
    " \n",
    "# Read the first frame to confirm reading\n",
    "ret, frame = cap.read()\n",
    " \n",
    "if ret:\n",
    "    # Display the frame using imshow\n",
    "    cv.imshow(\"First Frame\", frame)\n",
    "    cv.waitKey(0)  # Wait for a key press to close the window\n",
    "    cv.destroyAllWindows()  # Close the window\n",
    "else:\n",
    "    print(\"Error: Could not read the frame.\")\n",
    " \n",
    "# Release the video capture object\n",
    "cap.release()"
   ]
  },
  {
   "cell_type": "markdown",
   "id": "ecbd4e60",
   "metadata": {},
   "source": [
    "\n",
    "Q3: Write a simple program to extract the RGB values of a pixel."
   ]
  },
  {
   "cell_type": "code",
   "execution_count": null,
   "id": "92d97d86",
   "metadata": {},
   "outputs": [
    {
     "name": "stdout",
     "output_type": "stream",
     "text": [
      "(612, 491, 3)\n",
      "255\n"
     ]
    }
   ],
   "source": [
    "#checking dimensions of the image initially so we don't go out of bounds in that\n",
    "test_image = cv.imread('/home/cvl-5aiml-a2/Downloads/bowzer.jpg')\n",
    "dimensions = test_image.shape\n",
    "print(dimensions)\n",
    "\n",
    "val = test_image[4][236][1]\n",
    "print(val)"
   ]
  },
  {
   "cell_type": "markdown",
   "id": "bba407bc",
   "metadata": {},
   "source": [
    "\n",
    "Q4: Write a simple program to draw a rectangle.\n",
    "\n"
   ]
  },
  {
   "cell_type": "code",
   "execution_count": null,
   "id": "bad4c4b1",
   "metadata": {},
   "outputs": [
    {
     "data": {
      "text/plain": [
       "-1"
      ]
     },
     "execution_count": 6,
     "metadata": {},
     "output_type": "execute_result"
    }
   ],
   "source": [
    "test_image = cv.imread('/home/cvl-5aiml-a2/Downloads/bowzer.jpg')\n",
    "height, width, color, thickness = (40,40), (400,400), (0, 0, 0), 2\n",
    "scale_out = cv.rectangle(test_image, height, width, color, thickness)\n",
    "cv.imshow('dong', scale_out)\n",
    "cv.waitKey(0)"
   ]
  },
  {
   "cell_type": "markdown",
   "id": "6531b389",
   "metadata": {},
   "source": [
    "\n",
    "Q5: Write a simple program to resize the image.\n"
   ]
  },
  {
   "cell_type": "code",
   "execution_count": null,
   "id": "fa9e0092",
   "metadata": {},
   "outputs": [
    {
     "data": {
      "text/plain": [
       "-1"
      ]
     },
     "execution_count": 7,
     "metadata": {},
     "output_type": "execute_result"
    }
   ],
   "source": [
    "test_image = cv.imread('/home/cvl-5aiml-a2/Downloads/bowzer.jpg')\n",
    "new_width, new_height = 1920, 1080\n",
    "scale_out = cv.resize(test_image,(new_width, new_height))\n",
    "cv.imshow('dong', scale_out)\n",
    "cv.waitKey(0)\n"
   ]
  },
  {
   "cell_type": "markdown",
   "id": "70313c80",
   "metadata": {},
   "source": [
    "\n",
    "Q6: Write a simple program to rotate the image."
   ]
  },
  {
   "cell_type": "code",
   "execution_count": null,
   "id": "7639d784",
   "metadata": {},
   "outputs": [
    {
     "data": {
      "text/plain": [
       "-1"
      ]
     },
     "execution_count": 6,
     "metadata": {},
     "output_type": "execute_result"
    }
   ],
   "source": [
    "test_image = cv.imread('/home/cvl-5aiml-a2/Downloads/bowzer.jpg')\n",
    "#Note: cv.rotate_90_counterclockwise is NOT a function, so we can't call it like:\n",
    "#out = cv.ROTATE_90_COUNTERCLOCKWISE(test_image), we pass it as a parameter in the rotate function\n",
    "out = cv.rotate(test_image, cv.ROTATE_90_COUNTERCLOCKWISE)\n",
    "cv.imshow('bowzy copy', out)\n",
    "cv.waitKey(0)"
   ]
  },
  {
   "cell_type": "markdown",
   "id": "dae442ea",
   "metadata": {},
   "source": [
    "---"
   ]
  }
 ],
 "metadata": {
  "kernelspec": {
   "display_name": ".venv",
   "language": "python",
   "name": "python3"
  },
  "language_info": {
   "codemirror_mode": {
    "name": "ipython",
    "version": 3
   },
   "file_extension": ".py",
   "mimetype": "text/x-python",
   "name": "python",
   "nbconvert_exporter": "python",
   "pygments_lexer": "ipython3",
   "version": "3.11.2"
  }
 },
 "nbformat": 4,
 "nbformat_minor": 5
}
