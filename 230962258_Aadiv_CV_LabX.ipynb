{
 "cells": [
  {
   "cell_type": "markdown",
   "id": "9d03fa39",
   "metadata": {},
   "source": [
    "<center><H2>Lab x\n",
    "\n",
    "<center><H1>xxxxx"
   ]
  },
  {
   "cell_type": "code",
   "execution_count": 2,
   "id": "ec871a87",
   "metadata": {},
   "outputs": [],
   "source": [
    "#generic import statements, pip3 list for all installations\n",
    "\n",
    "import cv2 as cv\n",
    "import pandas\n",
    "import numpy\n",
    "import sklearn"
   ]
  },
  {
   "cell_type": "markdown",
   "id": "d7edd52c",
   "metadata": {},
   "source": [
    "<h3> Lab Exercises"
   ]
  },
  {
   "cell_type": "code",
   "execution_count": null,
   "id": "f5993a70",
   "metadata": {},
   "outputs": [],
   "source": []
  }
 ],
 "metadata": {
  "kernelspec": {
   "display_name": ".venv",
   "language": "python",
   "name": "python3"
  },
  "language_info": {
   "codemirror_mode": {
    "name": "ipython",
    "version": 3
   },
   "file_extension": ".py",
   "mimetype": "text/x-python",
   "name": "python",
   "nbconvert_exporter": "python",
   "pygments_lexer": "ipython3",
   "version": "3.11.2"
  }
 },
 "nbformat": 4,
 "nbformat_minor": 5
}
