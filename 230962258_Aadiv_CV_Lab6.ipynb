{
 "cells": [
  {
   "cell_type": "markdown",
   "id": "9d03fa39",
   "metadata": {},
   "source": [
    "<center><H2>Lab 5\n",
    "\n",
    "\n",
    "> <center><H1>Implementation of Feature Extraction Methods"
   ]
  },
  {
   "cell_type": "code",
   "execution_count": null,
   "id": "ec871a87",
   "metadata": {},
   "outputs": [],
   "source": [
    "#generic import statements, pip3 list for all installations\n",
    "\n",
    "import cv2 as cv\n",
    "import pandas as pd\n",
    "import numpy as np\n",
    "import sklearn as sk\n",
    "import matplotlib as plt"
   ]
  },
  {
   "cell_type": "markdown",
   "id": "d7edd52c",
   "metadata": {},
   "source": [
    "<h3> Lab Exercises"
   ]
  },
  {
   "cell_type": "markdown",
   "id": "059659b6",
   "metadata": {},
   "source": [
    "Implement HOG"
   ]
  },
  {
   "cell_type": "code",
   "execution_count": null,
   "id": "ed2fa610",
   "metadata": {},
   "outputs": [],
   "source": [
    "from skimage.feature import hog, local_binary_pattern\n",
    "\n",
    "image = cv.imread(\"/home/cvl-5aiml-a2/Downloads/bowzer.jpg\")\n",
    "grey = cv.cvtColor(image, cv.COLOR_BGR2GRAY)\n"
   ]
  },
  {
   "cell_type": "markdown",
   "id": "97b7ccbd",
   "metadata": {},
   "source": [
    "---"
   ]
  }
 ],
 "metadata": {
  "kernelspec": {
   "display_name": "Python 3 (ipykernel)",
   "language": "python",
   "name": "python3"
  },
  "language_info": {
   "codemirror_mode": {
    "name": "ipython",
    "version": 3
   },
   "file_extension": ".py",
   "mimetype": "text/x-python",
   "name": "python",
   "nbconvert_exporter": "python",
   "pygments_lexer": "ipython3",
   "version": "3.11.2"
  }
 },
 "nbformat": 4,
 "nbformat_minor": 5
}
