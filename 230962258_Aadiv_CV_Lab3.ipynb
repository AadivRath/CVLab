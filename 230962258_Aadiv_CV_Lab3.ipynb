{
 "cells": [
  {
   "cell_type": "markdown",
   "id": "9d03fa39",
   "metadata": {},
   "source": [
    "<center><H2>Lab 3\n",
    "\n",
    "<center><H1> Implementation of Image Filtering Operations"
   ]
  },
  {
   "cell_type": "code",
   "execution_count": 2,
   "id": "ec871a87",
   "metadata": {},
   "outputs": [],
   "source": [
    "#generic import statements, pip3 list for all installations\n",
    "\n",
    "import cv2 as cv\n",
    "import pandas as pd\n",
    "import numpy as np\n",
    "import sklearn as sk\n",
    "import matplotlib as plt"
   ]
  },
  {
   "cell_type": "markdown",
   "id": "d7edd52c",
   "metadata": {},
   "source": [
    "<h3> Lab Exercises"
   ]
  },
  {
   "cell_type": "markdown",
   "id": "a99e4171",
   "metadata": {},
   "source": [
    "1. Write a program to read an image and perform unsharp masking."
   ]
  },
  {
   "cell_type": "code",
   "execution_count": 41,
   "id": "f7b2432e",
   "metadata": {},
   "outputs": [],
   "source": [
    "'''\n",
    "Apply the Gaussian to the entire image and save that as  a new image. Subtract original image from the Gaussian, and that is our mask.\n",
    "Add the sharpening mask to the image, and that is our sharpened image.\n",
    "'''\n",
    "\n",
    "image = cv.imread('/home/cvl-5aiml-a2/Downloads/bowzer.jpg')\n",
    "\n",
    "Gaussian_kernel = 0.0625 * np.array(\n",
    "                 [[1,2,1],\n",
    "                  [2,4,2],\n",
    "                  [1,2,1]])\n",
    "\n",
    "filtered_image = cv.filter2D(src = image, ddepth= -1, kernel= Gaussian_kernel)\n",
    "sharpening_mask = cv.subtract(image, filtered_image)\n",
    "final_image = cv.add(image, sharpening_mask)\n",
    "cv.imshow(\"sharpeing\", final_image)\n",
    "cv.waitKey(0)\n",
    "cv.destroyAllWindows()"
   ]
  },
  {
   "cell_type": "markdown",
   "id": "a773525d",
   "metadata": {},
   "source": [
    "2. Write a program to obtain gradient of an image."
   ]
  },
  {
   "cell_type": "code",
   "execution_count": null,
   "id": "aae8010c",
   "metadata": {},
   "outputs": [],
   "source": [
    "'''\n",
    "Four gradient filters side by side for comparison\n",
    "'''\n",
    "\n",
    "laplacian = cv.Laplacian(src= image, ddepth= -1)\n",
    "sobelX = cv.Sobel(src= image, ddepth= -1, dx= 0, dy = 1)\n",
    "sobelY = cv.Sobel(src= image, ddepth= -1, dx= 1, dy = 0)\n",
    "completeSobel = cv.add(sobelX, sobelY)\n",
    "\n",
    "stacked_images = cv.hconcat([laplacian, sobelX, sobelY, completeSobel])\n",
    "cv.imshow(\"Left: Laplacian, Middle: sobelX, Right, sobelY\", stacked_images)\n",
    "cv.waitKey(0)\n",
    "cv.destroyAllWindows()"
   ]
  },
  {
   "cell_type": "markdown",
   "id": "715358b1",
   "metadata": {},
   "source": [
    "3. \n",
    "Write a program to compare box filter and gaussian filter image outputs."
   ]
  },
  {
   "cell_type": "code",
   "execution_count": 62,
   "id": "43612d64",
   "metadata": {},
   "outputs": [],
   "source": [
    "box_blur = 0.112 * np.array([\n",
    "[1,1,1],\n",
    "[1,1,1],\n",
    "[1,1,1]])\n",
    "\n",
    "Gaussian_kernel = 0.0625 * np.array(\n",
    "[[1,2,1],\n",
    "[2,4,2],\n",
    "[1,2,1]])\n",
    "\n",
    "\n",
    "image = cv.imread('/home/cvl-5aiml-a2/Downloads/bowzer.jpg')\n",
    "\n",
    "filtered_image_box = cv.filter2D(src = image, ddepth= -1, kernel= box_blur)\n",
    "filtered_image_gaussian = cv.filter2D(src = image, ddepth= -1, kernel= Gaussian_kernel)\n",
    "boxGauss = cv.hconcat([filtered_image_box,filtered_image_gaussian])\n",
    "cv.imshow(\"Left: Box Blur, Right Gaussian Blur\", boxGauss)\n",
    "cv.waitKey(0)\n",
    "cv.destroyAllWindows()\n"
   ]
  },
  {
   "cell_type": "markdown",
   "id": "225a6245",
   "metadata": {},
   "source": [
    "4. Write a program to detect edges in a image."
   ]
  },
  {
   "cell_type": "code",
   "execution_count": 65,
   "id": "da85f547",
   "metadata": {},
   "outputs": [],
   "source": [
    "'''\n",
    "Apply vertical and horizontal kernels and add the values as the final answer. Trivial.\n",
    "'''\n",
    "\n",
    "image = cv.imread('/home/cvl-5aiml-a2/Downloads/bowzer.jpg',0)\n",
    "\n",
    "h_edge_kernel = np.array(\n",
    "                        [[1,1,1],\n",
    "                        [0,0,0],\n",
    "                        [-1,-1,-1]])    \n",
    "\n",
    "v_edge_kernel = np.array(\n",
    "                        [[1,0,-1],\n",
    "                        [1,0,-1],\n",
    "                        [1,0,-1]])\n",
    "\n",
    "filtered_image_v = cv.filter2D(src = image, ddepth= -1, kernel= v_edge_kernel)\n",
    "filtered_image_h = cv.filter2D(src = image, ddepth= -1, kernel= h_edge_kernel)\n",
    "\n",
    "final_image = cv.add(filtered_image_h, filtered_image_v)\n",
    "\n",
    "cv.imshow(\"edge detection\", final_image)\n",
    "cv.waitKey(0)\n",
    "cv.destroyAllWindows()"
   ]
  },
  {
   "cell_type": "markdown",
   "id": "1bf67e91",
   "metadata": {},
   "source": [
    "5. Implement Canny edge detection algorithm."
   ]
  },
  {
   "cell_type": "code",
   "execution_count": 84,
   "id": "a2e6ba60",
   "metadata": {},
   "outputs": [],
   "source": [
    "'''\n",
    "Procedure: (from wikipedia):\n",
    "The process of Canny edge detection algorithm can be broken down to five different steps:\n",
    "\n",
    "    Apply Gaussian filter to smooth the image in order to remove the noise\n",
    "    Find the intensity gradients of the image\n",
    "    Apply gradient magnitude thresholding or lower bound cut-off suppression to get rid of spurious response to edge detection\n",
    "    Apply double threshold to determine potential edges\n",
    "    Track edge by hysteresis: Finalize the detection of edges by suppressing all the other edges that are weak and not connected to strong edges\n",
    "'''\n",
    "\n",
    "#Step 1:\n",
    "image = cv.imread('/home/cvl-5aiml-a2/Downloads/bowzer.jpg',0)\n",
    "blurred_image = cv.GaussianBlur(image,[7,7],0)\n",
    "\n",
    "#step 2:\n",
    "sol_x = cv.Sobel(blurred_image, cv.CV_64F, 1, 0, ksize=3)\n",
    "sol_y = cv.Sobel(blurred_image, cv.CV_64F, 0, 1, ksize=3)\n",
    "magnitude = cv.magnitude(sol_x, sol_y)\n",
    "\n",
    "#step 3 onwards:\n",
    "misc, thresholded = cv.threshold(magnitude, thresh= 90, maxval= 255, type= cv.THRESH_BINARY)\n",
    "cv.imshow(\"edge detection\", thresholded)\n",
    "cv.waitKey(0)\n",
    "cv.destroyAllWindows()\n"
   ]
  },
  {
   "cell_type": "markdown",
   "id": "3b19853a",
   "metadata": {},
   "source": [
    "---"
   ]
  }
 ],
 "metadata": {
  "kernelspec": {
   "display_name": ".venv",
   "language": "python",
   "name": "python3"
  },
  "language_info": {
   "codemirror_mode": {
    "name": "ipython",
    "version": 3
   },
   "file_extension": ".py",
   "mimetype": "text/x-python",
   "name": "python",
   "nbconvert_exporter": "python",
   "pygments_lexer": "ipython3",
   "version": "3.11.2"
  }
 },
 "nbformat": 4,
 "nbformat_minor": 5
}
